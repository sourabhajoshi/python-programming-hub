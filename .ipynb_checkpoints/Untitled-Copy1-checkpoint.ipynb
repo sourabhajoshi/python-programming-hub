{
 "cells": [
  {
   "cell_type": "markdown",
   "id": "4202c5d1",
   "metadata": {},
   "source": [
    "#                                                      Python Programming \n",
    "###                                                                                                   -Joshi Sourabha"
   ]
  },
  {
   "cell_type": "markdown",
   "id": "d8736a69",
   "metadata": {},
   "source": [
    "### 1. Keywords:"
   ]
  },
  {
   "cell_type": "code",
   "execution_count": 1,
   "id": "9f9b1f47",
   "metadata": {},
   "outputs": [],
   "source": [
    "import keyword"
   ]
  },
  {
   "cell_type": "code",
   "execution_count": 2,
   "id": "0f4ee19a",
   "metadata": {},
   "outputs": [],
   "source": [
    "## print(keyword.kwlist) #keyword lists"
   ]
  },
  {
   "cell_type": "code",
   "execution_count": 3,
   "id": "12f276d2",
   "metadata": {},
   "outputs": [
    {
     "name": "stdout",
     "output_type": "stream",
     "text": [
      "35\n"
     ]
    }
   ],
   "source": [
    "print(len(keyword.kwlist)) #count or length of keywords"
   ]
  },
  {
   "cell_type": "markdown",
   "id": "a939993a",
   "metadata": {},
   "source": [
    "### 2. Identifiers"
   ]
  },
  {
   "cell_type": "markdown",
   "id": "7973cf82",
   "metadata": {},
   "source": [
    "2.1 valid identifiers"
   ]
  },
  {
   "cell_type": "code",
   "execution_count": 4,
   "id": "bfa8af12",
   "metadata": {},
   "outputs": [],
   "source": [
    "val = 10 # valid identifier"
   ]
  },
  {
   "cell_type": "code",
   "execution_count": 5,
   "id": "5c919b94",
   "metadata": {},
   "outputs": [],
   "source": [
    "_val = 20"
   ]
  },
  {
   "cell_type": "code",
   "execution_count": 6,
   "id": "55a97f4f",
   "metadata": {},
   "outputs": [],
   "source": [
    "int_val = 30"
   ]
  },
  {
   "cell_type": "code",
   "execution_count": 7,
   "id": "3b27d9f2",
   "metadata": {},
   "outputs": [],
   "source": [
    "int_val_1 = 40"
   ]
  },
  {
   "cell_type": "code",
   "execution_count": 8,
   "id": "dc3cc0ca",
   "metadata": {},
   "outputs": [],
   "source": [
    "val2 = 50"
   ]
  },
  {
   "cell_type": "markdown",
   "id": "384a05e0",
   "metadata": {},
   "source": [
    "#### 2.2 invalid identifiers"
   ]
  },
  {
   "cell_type": "code",
   "execution_count": 9,
   "id": "742c4bdf",
   "metadata": {},
   "outputs": [
    {
     "ename": "SyntaxError",
     "evalue": "invalid decimal literal (264011422.py, line 1)",
     "output_type": "error",
     "traceback": [
      "\u001b[0;36m  Cell \u001b[0;32mIn[9], line 1\u001b[0;36m\u001b[0m\n\u001b[0;31m    25val = 25  # identifiers can not start with number\u001b[0m\n\u001b[0m     ^\u001b[0m\n\u001b[0;31mSyntaxError\u001b[0m\u001b[0;31m:\u001b[0m invalid decimal literal\n"
     ]
    }
   ],
   "source": [
    "25val = 25  # identifiers can not start with number"
   ]
  },
  {
   "cell_type": "code",
   "execution_count": 10,
   "id": "7ecc9aa4",
   "metadata": {},
   "outputs": [
    {
     "ename": "SyntaxError",
     "evalue": "invalid syntax (408274955.py, line 1)",
     "output_type": "error",
     "traceback": [
      "\u001b[0;36m  Cell \u001b[0;32mIn[10], line 1\u001b[0;36m\u001b[0m\n\u001b[0;31m    $val = 50 # identifiers can not start with special symbol\u001b[0m\n\u001b[0m    ^\u001b[0m\n\u001b[0;31mSyntaxError\u001b[0m\u001b[0;31m:\u001b[0m invalid syntax\n"
     ]
    }
   ],
   "source": [
    "$val = 50 # identifiers can not start with special symbol"
   ]
  },
  {
   "cell_type": "code",
   "execution_count": 11,
   "id": "25ee3467",
   "metadata": {},
   "outputs": [
    {
     "ename": "SyntaxError",
     "evalue": "invalid syntax (1794300832.py, line 1)",
     "output_type": "error",
     "traceback": [
      "\u001b[0;36m  Cell \u001b[0;32mIn[11], line 1\u001b[0;36m\u001b[0m\n\u001b[0;31m    val@ = 75\u001b[0m\n\u001b[0m         ^\u001b[0m\n\u001b[0;31mSyntaxError\u001b[0m\u001b[0;31m:\u001b[0m invalid syntax\n"
     ]
    }
   ],
   "source": [
    "val@ = 75"
   ]
  },
  {
   "cell_type": "code",
   "execution_count": 12,
   "id": "b7ef47d8",
   "metadata": {},
   "outputs": [
    {
     "ename": "SyntaxError",
     "evalue": "invalid syntax (581882038.py, line 1)",
     "output_type": "error",
     "traceback": [
      "\u001b[0;36m  Cell \u001b[0;32mIn[12], line 1\u001b[0;36m\u001b[0m\n\u001b[0;31m    int_val_$ = 100\u001b[0m\n\u001b[0m            ^\u001b[0m\n\u001b[0;31mSyntaxError\u001b[0m\u001b[0;31m:\u001b[0m invalid syntax\n"
     ]
    }
   ],
   "source": [
    "int_val_$ = 100"
   ]
  },
  {
   "cell_type": "markdown",
   "id": "6d2fa8db",
   "metadata": {},
   "source": [
    "### 3 Comments"
   ]
  },
  {
   "cell_type": "markdown",
   "id": "556d7682",
   "metadata": {},
   "source": [
    "#### 3.1 Single line comment"
   ]
  },
  {
   "cell_type": "code",
   "execution_count": 13,
   "id": "87540e2a",
   "metadata": {},
   "outputs": [],
   "source": [
    "#This is single line comment\n",
    "val = 10"
   ]
  },
  {
   "cell_type": "markdown",
   "id": "972c2800",
   "metadata": {},
   "source": [
    "#### 3.2 Multi line comment"
   ]
  },
  {
   "cell_type": "code",
   "execution_count": 14,
   "id": "61b16e8e",
   "metadata": {},
   "outputs": [],
   "source": [
    "#Multi\n",
    "#line\n",
    "#comment"
   ]
  },
  {
   "cell_type": "code",
   "execution_count": 15,
   "id": "c2729258",
   "metadata": {},
   "outputs": [],
   "source": [
    "'''\n",
    "This is \n",
    "multi line \n",
    "comment using three\n",
    "pair of single \n",
    "quotes\n",
    "'''\n",
    "val = 20"
   ]
  },
  {
   "cell_type": "code",
   "execution_count": 16,
   "id": "aaa1d354",
   "metadata": {},
   "outputs": [],
   "source": [
    "\"\"\"\n",
    "Another \n",
    "way of multi line\n",
    "comment\n",
    "using pair of three\n",
    "double quotes\n",
    "\"\"\"\n",
    "val = 30"
   ]
  },
  {
   "cell_type": "markdown",
   "id": "48e7337a",
   "metadata": {},
   "source": [
    "### 4. Statements"
   ]
  },
  {
   "cell_type": "markdown",
   "id": "5377f530",
   "metadata": {},
   "source": [
    "#### 4.1 Single line statement"
   ]
  },
  {
   "cell_type": "code",
   "execution_count": 17,
   "id": "976f283b",
   "metadata": {},
   "outputs": [
    {
     "name": "stdout",
     "output_type": "stream",
     "text": [
      "30\n"
     ]
    }
   ],
   "source": [
    "val = 10 + 20 # covered in single line\n",
    "print(val)"
   ]
  },
  {
   "cell_type": "code",
   "execution_count": 18,
   "id": "49cb3878",
   "metadata": {},
   "outputs": [
    {
     "name": "stdout",
     "output_type": "stream",
     "text": [
      "[2, 4, 6, 8]\n"
     ]
    }
   ],
   "source": [
    "even_list = [2, 4, 6, 8]\n",
    "print(even_list)"
   ]
  },
  {
   "cell_type": "markdown",
   "id": "20ecd2bd",
   "metadata": {},
   "source": [
    "#### 4.2 Multi line statement"
   ]
  },
  {
   "cell_type": "code",
   "execution_count": 19,
   "id": "9c29a81e",
   "metadata": {},
   "outputs": [
    {
     "name": "stdout",
     "output_type": "stream",
     "text": [
      "315\n"
     ]
    }
   ],
   "source": [
    "# multiple line statement\n",
    "val = 15 + 25 + 35 \\\n",
    "         + 45 + 55 \\\n",
    "         + 65 + 75\n",
    "print(val)"
   ]
  },
  {
   "cell_type": "code",
   "execution_count": 20,
   "id": "5c0422da",
   "metadata": {},
   "outputs": [
    {
     "name": "stdout",
     "output_type": "stream",
     "text": [
      "[1, 3, 5, 7, 9]\n"
     ]
    }
   ],
   "source": [
    "odd_list = [\n",
    "    1,\n",
    "    3,\n",
    "    5,\n",
    "    7,\n",
    "    9\n",
    "]\n",
    "print(odd_list)"
   ]
  },
  {
   "cell_type": "markdown",
   "id": "f875f34f",
   "metadata": {},
   "source": [
    "### 5. Indentation"
   ]
  },
  {
   "cell_type": "code",
   "execution_count": 21,
   "id": "990e61f8",
   "metadata": {},
   "outputs": [
    {
     "name": "stdout",
     "output_type": "stream",
     "text": [
      "val is equals to 10\n"
     ]
    }
   ],
   "source": [
    "# correct indentation\n",
    "val = 10\n",
    "if val == 10:\n",
    "    print(\"val is equals to 10\")"
   ]
  },
  {
   "cell_type": "code",
   "execution_count": 22,
   "id": "ec8eb20a",
   "metadata": {},
   "outputs": [
    {
     "ename": "IndentationError",
     "evalue": "expected an indented block after 'if' statement on line 3 (3810473701.py, line 4)",
     "output_type": "error",
     "traceback": [
      "\u001b[0;36m  Cell \u001b[0;32mIn[22], line 4\u001b[0;36m\u001b[0m\n\u001b[0;31m    print(\"val is equals to 25\")\u001b[0m\n\u001b[0m    ^\u001b[0m\n\u001b[0;31mIndentationError\u001b[0m\u001b[0;31m:\u001b[0m expected an indented block after 'if' statement on line 3\n"
     ]
    }
   ],
   "source": [
    "# wrong way : encounter a indentationError\n",
    "val = 25\n",
    "if val == 25:\n",
    "print(\"val is equals to 25\")"
   ]
  },
  {
   "cell_type": "code",
   "execution_count": 23,
   "id": "a91ac837",
   "metadata": {},
   "outputs": [
    {
     "name": "stdout",
     "output_type": "stream",
     "text": [
      "val is equals to 50\n"
     ]
    }
   ],
   "source": [
    "# correct indentation with less redable\n",
    "val = 50\n",
    "if val == 50: print(\"val is equals to 50\")"
   ]
  },
  {
   "cell_type": "code",
   "execution_count": 24,
   "id": "75db5d6d",
   "metadata": {},
   "outputs": [
    {
     "name": "stdout",
     "output_type": "stream",
     "text": [
      "0\n",
      "1\n",
      "2\n",
      "3\n",
      "4\n"
     ]
    }
   ],
   "source": [
    "# correct indentation : to print all numbers from range\n",
    "for num in range(0, 5):\n",
    "    print(num)"
   ]
  },
  {
   "cell_type": "code",
   "execution_count": 25,
   "id": "ef2d1def",
   "metadata": {},
   "outputs": [
    {
     "ename": "IndentationError",
     "evalue": "expected an indented block after 'for' statement on line 2 (4020502540.py, line 3)",
     "output_type": "error",
     "traceback": [
      "\u001b[0;36m  Cell \u001b[0;32mIn[25], line 3\u001b[0;36m\u001b[0m\n\u001b[0;31m    print(num)\u001b[0m\n\u001b[0m    ^\u001b[0m\n\u001b[0;31mIndentationError\u001b[0m\u001b[0;31m:\u001b[0m expected an indented block after 'for' statement on line 2\n"
     ]
    }
   ],
   "source": [
    "# incorrect indentation : encounter a indentationError\n",
    "for num in range(0, 5):\n",
    "print(num)"
   ]
  },
  {
   "cell_type": "markdown",
   "id": "555b14e9",
   "metadata": {},
   "source": [
    "### 6. Docstring"
   ]
  },
  {
   "cell_type": "code",
   "execution_count": 26,
   "id": "ab348668",
   "metadata": {},
   "outputs": [],
   "source": [
    "# function returns sum of two numbers\n",
    "def sum_of_two_numbers(x, y):\n",
    "    '''This function returns the sum of two numbers'''\n",
    "    return x+y\n",
    "    "
   ]
  },
  {
   "cell_type": "code",
   "execution_count": 27,
   "id": "670f5e73",
   "metadata": {},
   "outputs": [
    {
     "data": {
      "text/plain": [
       "30"
      ]
     },
     "execution_count": 27,
     "metadata": {},
     "output_type": "execute_result"
    }
   ],
   "source": [
    "# function call\n",
    "sum_of_two_numbers(10, 20)"
   ]
  },
  {
   "cell_type": "code",
   "execution_count": 28,
   "id": "37321f46",
   "metadata": {},
   "outputs": [
    {
     "name": "stdout",
     "output_type": "stream",
     "text": [
      "This function returns the sum of two numbers\n"
     ]
    }
   ],
   "source": [
    "# doc string of function\n",
    "print(sum_of_two_numbers.__doc__)"
   ]
  },
  {
   "cell_type": "code",
   "execution_count": 29,
   "id": "4c4beec6",
   "metadata": {},
   "outputs": [
    {
     "name": "stdout",
     "output_type": "stream",
     "text": [
      "This function prints whether a number is even or odd.\n"
     ]
    }
   ],
   "source": [
    "# function to check even or odd number\n",
    "def even_or_odd(num):\n",
    "    '''This function prints whether a number is even or odd.'''\n",
    "    if num%2 == 0:\n",
    "        print(\"Even number\")\n",
    "    else:\n",
    "        print(\"Odd number\")\n",
    "        \n",
    "print(even_or_odd.__doc__) # print the Docstring of function"
   ]
  },
  {
   "cell_type": "markdown",
   "id": "273033e6",
   "metadata": {},
   "source": [
    "### 7. Variables"
   ]
  },
  {
   "cell_type": "code",
   "execution_count": 30,
   "id": "c13b1d7a",
   "metadata": {},
   "outputs": [],
   "source": [
    "x = 10 # 'x' is a variable that reserves a memory location to store the value '10'"
   ]
  },
  {
   "cell_type": "code",
   "execution_count": 31,
   "id": "25934bca",
   "metadata": {},
   "outputs": [
    {
     "name": "stdout",
     "output_type": "stream",
     "text": [
      "Given value 25\n",
      "Memory address of value 4380239832\n",
      "Memory address of value in hex 0x1051527d8\n"
     ]
    },
    {
     "ename": "NameError",
     "evalue": "name 'getsizeof' is not defined",
     "output_type": "error",
     "traceback": [
      "\u001b[0;31m---------------------------------------------------------------------------\u001b[0m",
      "\u001b[0;31mNameError\u001b[0m                                 Traceback (most recent call last)",
      "Cell \u001b[0;32mIn[31], line 5\u001b[0m\n\u001b[1;32m      3\u001b[0m \u001b[38;5;28mprint\u001b[39m(\u001b[38;5;124m\"\u001b[39m\u001b[38;5;124mMemory address of value\u001b[39m\u001b[38;5;124m\"\u001b[39m, \u001b[38;5;28mid\u001b[39m(val))\n\u001b[1;32m      4\u001b[0m \u001b[38;5;28mprint\u001b[39m(\u001b[38;5;124m\"\u001b[39m\u001b[38;5;124mMemory address of value in hex\u001b[39m\u001b[38;5;124m\"\u001b[39m, \u001b[38;5;28mhex\u001b[39m(\u001b[38;5;28mid\u001b[39m(val)))\n\u001b[0;32m----> 5\u001b[0m \u001b[38;5;28mprint\u001b[39m(\u001b[38;5;124m\"\u001b[39m\u001b[38;5;124msize of value in bytes\u001b[39m\u001b[38;5;124m\"\u001b[39m, getsizeof(val))\n",
      "\u001b[0;31mNameError\u001b[0m: name 'getsizeof' is not defined"
     ]
    }
   ],
   "source": [
    "val = 25\n",
    "print(\"Given value\", val)\n",
    "print(\"Memory address of value\", id(val))\n",
    "print(\"Memory address of value in hex\", hex(id(val)))\n",
    "print(\"size of value in bytes\", getsizeof(val)) # through NameError : 'sys' package is not imported"
   ]
  },
  {
   "cell_type": "code",
   "execution_count": 34,
   "id": "a3f6991e",
   "metadata": {},
   "outputs": [
    {
     "name": "stdout",
     "output_type": "stream",
     "text": [
      "28\n"
     ]
    }
   ],
   "source": [
    "# imports the 'sys package' and uses the 'getsizeof' function to get the size of the variable val.\n",
    "import sys\n",
    "val = 25\n",
    "print(sys.getsizeof(val))"
   ]
  },
  {
   "cell_type": "markdown",
   "id": "a08a9764",
   "metadata": {},
   "source": [
    "### 8. Variable assignment"
   ]
  },
  {
   "cell_type": "markdown",
   "id": "b96c9e20",
   "metadata": {},
   "source": [
    "#### 8.1 Single variable assignment"
   ]
  },
  {
   "cell_type": "code",
   "execution_count": 32,
   "id": "1812a6f0",
   "metadata": {},
   "outputs": [
    {
     "name": "stdout",
     "output_type": "stream",
     "text": [
      "integer, float and string values are 10 3.142 joshi\n"
     ]
    }
   ],
   "source": [
    "int_val = 10\n",
    "float_val = 3.142\n",
    "string_val = \"joshi\"\n",
    "\n",
    "print(\"integer, float and string values are\", int_val, float_val, string_val)"
   ]
  },
  {
   "cell_type": "markdown",
   "id": "b13de617",
   "metadata": {},
   "source": [
    "#### 8.2 Multiple assignment"
   ]
  },
  {
   "cell_type": "code",
   "execution_count": 35,
   "id": "396052e6",
   "metadata": {},
   "outputs": [
    {
     "name": "stdout",
     "output_type": "stream",
     "text": [
      "integer, float and string values are: 15 20.755 bidar\n"
     ]
    }
   ],
   "source": [
    "int_val, float_val, string_val = 15, 20.755, \"bidar\"\n",
    "print(\"integer, float and string values are:\", int_val, float_val, string_val)"
   ]
  },
  {
   "cell_type": "code",
   "execution_count": null,
   "id": "4bf902a5",
   "metadata": {},
   "outputs": [],
   "source": []
  }
 ],
 "metadata": {
  "kernelspec": {
   "display_name": "Python 3 (ipykernel)",
   "language": "python",
   "name": "python3"
  },
  "language_info": {
   "codemirror_mode": {
    "name": "ipython",
    "version": 3
   },
   "file_extension": ".py",
   "mimetype": "text/x-python",
   "name": "python",
   "nbconvert_exporter": "python",
   "pygments_lexer": "ipython3",
   "version": "3.11.5"
  }
 },
 "nbformat": 4,
 "nbformat_minor": 5
}
