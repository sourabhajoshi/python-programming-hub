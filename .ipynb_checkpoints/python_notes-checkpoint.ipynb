{
 "cells": [
  {
   "cell_type": "markdown",
   "id": "4202c5d1",
   "metadata": {},
   "source": [
    "#                                                      Python Programming \n",
    "###                                                                                                   -Joshi Sourabha"
   ]
  },
  {
   "cell_type": "markdown",
   "id": "d8736a69",
   "metadata": {},
   "source": [
    "### 1. Keywords:\n",
    "Keywords in Python are reserved words that have special meaning and cannot be used as variable names. They are an essential part of the syntax and structure of the Python programming language. "
   ]
  },
  {
   "cell_type": "code",
   "execution_count": 2,
   "id": "9f9b1f47",
   "metadata": {},
   "outputs": [],
   "source": [
    "import keyword"
   ]
  },
  {
   "cell_type": "code",
   "execution_count": 3,
   "id": "0f4ee19a",
   "metadata": {},
   "outputs": [
    {
     "name": "stdout",
     "output_type": "stream",
     "text": [
      "['False', 'None', 'True', 'and', 'as', 'assert', 'async', 'await', 'break', 'class', 'continue', 'def', 'del', 'elif', 'else', 'except', 'finally', 'for', 'from', 'global', 'if', 'import', 'in', 'is', 'lambda', 'nonlocal', 'not', 'or', 'pass', 'raise', 'return', 'try', 'while', 'with', 'yield']\n"
     ]
    }
   ],
   "source": [
    "print(keyword.kwlist) #keyword lists"
   ]
  },
  {
   "cell_type": "code",
   "execution_count": 3,
   "id": "12f276d2",
   "metadata": {},
   "outputs": [
    {
     "name": "stdout",
     "output_type": "stream",
     "text": [
      "35\n"
     ]
    }
   ],
   "source": [
    "print(len(keyword.kwlist)) #count or length of keywords"
   ]
  },
  {
   "cell_type": "markdown",
   "id": "a939993a",
   "metadata": {},
   "source": [
    "### 2. Identifiers\n",
    "identifiers are names used to identify variables, functions, classes, modules, and other objects. An identifier must start with a letter (a-z, A-Z) or an underscore (_), followed by any number of letters, digits (0-9), or underscores. Identifiers are case-sensitive, which means Variable and variable would be treated as different names.\n",
    "\n",
    "Rules for Naming Identifiers:\n",
    "* Must begin with a letter (a-z, A-Z) or an underscore (_).\n",
    "* Cannot start with a digit.\n",
    "* Can contain letters, digits, and underscores.\n",
    "* Case-sensitive: myVar and myvar are different identifiers.\n",
    "* Cannot be a keyword: You cannot use Python's reserved words as identifiers."
   ]
  },
  {
   "cell_type": "markdown",
   "id": "7973cf82",
   "metadata": {},
   "source": [
    "2.1 valid identifiers\n",
    "examples of valid identifiers are : variable, variable1, _variable, my_variable, VAR"
   ]
  },
  {
   "cell_type": "code",
   "execution_count": 4,
   "id": "bfa8af12",
   "metadata": {},
   "outputs": [],
   "source": [
    "val = 10 # valid identifier"
   ]
  },
  {
   "cell_type": "code",
   "execution_count": 5,
   "id": "5c919b94",
   "metadata": {},
   "outputs": [],
   "source": [
    "_val = 20"
   ]
  },
  {
   "cell_type": "code",
   "execution_count": 6,
   "id": "55a97f4f",
   "metadata": {},
   "outputs": [],
   "source": [
    "int_val = 30"
   ]
  },
  {
   "cell_type": "code",
   "execution_count": 7,
   "id": "3b27d9f2",
   "metadata": {},
   "outputs": [],
   "source": [
    "int_val_1 = 40"
   ]
  },
  {
   "cell_type": "code",
   "execution_count": 8,
   "id": "dc3cc0ca",
   "metadata": {},
   "outputs": [],
   "source": [
    "val2 = 50"
   ]
  },
  {
   "cell_type": "markdown",
   "id": "384a05e0",
   "metadata": {},
   "source": [
    "#### 2.2 invalid identifiers\n",
    "examples of valid identifiers are : \n",
    "1variable (cannot start with a digit)\n",
    "variable! (contains a special character)\n",
    "def (is a keyword)\n",
    "class (is a keyword)"
   ]
  },
  {
   "cell_type": "code",
   "execution_count": 9,
   "id": "742c4bdf",
   "metadata": {},
   "outputs": [
    {
     "ename": "SyntaxError",
     "evalue": "invalid decimal literal (264011422.py, line 1)",
     "output_type": "error",
     "traceback": [
      "\u001b[0;36m  Cell \u001b[0;32mIn[9], line 1\u001b[0;36m\u001b[0m\n\u001b[0;31m    25val = 25  # identifiers can not start with number\u001b[0m\n\u001b[0m     ^\u001b[0m\n\u001b[0;31mSyntaxError\u001b[0m\u001b[0;31m:\u001b[0m invalid decimal literal\n"
     ]
    }
   ],
   "source": [
    "25val = 25  # identifiers can not start with number"
   ]
  },
  {
   "cell_type": "code",
   "execution_count": 10,
   "id": "7ecc9aa4",
   "metadata": {},
   "outputs": [
    {
     "ename": "SyntaxError",
     "evalue": "invalid syntax (408274955.py, line 1)",
     "output_type": "error",
     "traceback": [
      "\u001b[0;36m  Cell \u001b[0;32mIn[10], line 1\u001b[0;36m\u001b[0m\n\u001b[0;31m    $val = 50 # identifiers can not start with special symbol\u001b[0m\n\u001b[0m    ^\u001b[0m\n\u001b[0;31mSyntaxError\u001b[0m\u001b[0;31m:\u001b[0m invalid syntax\n"
     ]
    }
   ],
   "source": [
    "$val = 50 # identifiers can not start with special symbol"
   ]
  },
  {
   "cell_type": "code",
   "execution_count": 11,
   "id": "25ee3467",
   "metadata": {},
   "outputs": [
    {
     "ename": "SyntaxError",
     "evalue": "invalid syntax (1794300832.py, line 1)",
     "output_type": "error",
     "traceback": [
      "\u001b[0;36m  Cell \u001b[0;32mIn[11], line 1\u001b[0;36m\u001b[0m\n\u001b[0;31m    val@ = 75\u001b[0m\n\u001b[0m         ^\u001b[0m\n\u001b[0;31mSyntaxError\u001b[0m\u001b[0;31m:\u001b[0m invalid syntax\n"
     ]
    }
   ],
   "source": [
    "val@ = 75"
   ]
  },
  {
   "cell_type": "code",
   "execution_count": 12,
   "id": "b7ef47d8",
   "metadata": {},
   "outputs": [
    {
     "ename": "SyntaxError",
     "evalue": "invalid syntax (581882038.py, line 1)",
     "output_type": "error",
     "traceback": [
      "\u001b[0;36m  Cell \u001b[0;32mIn[12], line 1\u001b[0;36m\u001b[0m\n\u001b[0;31m    int_val_$ = 100\u001b[0m\n\u001b[0m            ^\u001b[0m\n\u001b[0;31mSyntaxError\u001b[0m\u001b[0;31m:\u001b[0m invalid syntax\n"
     ]
    }
   ],
   "source": [
    "int_val_$ = 100"
   ]
  },
  {
   "cell_type": "markdown",
   "id": "6d2fa8db",
   "metadata": {},
   "source": [
    "### 3 Comments\n",
    "Comments in Python are used to explain code and make it more readable. They are ignored by the Python interpreter and do not affect the execution of the program. There are two types of comments in Python: single-line comments and multi-line comments."
   ]
  },
  {
   "cell_type": "markdown",
   "id": "556d7682",
   "metadata": {},
   "source": [
    "#### 3.1 Single line comment\n",
    "Single-line comments start with the hash symbol (#) and extend to the end of the line."
   ]
  },
  {
   "cell_type": "code",
   "execution_count": 13,
   "id": "87540e2a",
   "metadata": {},
   "outputs": [],
   "source": [
    "#This is single line comment\n",
    "val = 10"
   ]
  },
  {
   "cell_type": "markdown",
   "id": "972c2800",
   "metadata": {},
   "source": [
    "#### 3.2 Multi line comment\n",
    "There are no specific multi-line comment syntax in Python, but multi-line comments can be created by using consecutive single-line comments or by using triple quotes (''' or \"\"\") to create a multi-line string that is not assigned to any variable."
   ]
  },
  {
   "cell_type": "code",
   "execution_count": 14,
   "id": "61b16e8e",
   "metadata": {},
   "outputs": [],
   "source": [
    "#Multi\n",
    "#line\n",
    "#comment"
   ]
  },
  {
   "cell_type": "code",
   "execution_count": 15,
   "id": "c2729258",
   "metadata": {},
   "outputs": [],
   "source": [
    "'''\n",
    "This is \n",
    "multi line \n",
    "comment using three\n",
    "pair of single \n",
    "quotes\n",
    "'''\n",
    "val = 20"
   ]
  },
  {
   "cell_type": "code",
   "execution_count": 16,
   "id": "aaa1d354",
   "metadata": {},
   "outputs": [],
   "source": [
    "\"\"\"\n",
    "Another \n",
    "way of multi line\n",
    "comment\n",
    "using pair of three\n",
    "double quotes\n",
    "\"\"\"\n",
    "val = 30"
   ]
  },
  {
   "cell_type": "markdown",
   "id": "48e7337a",
   "metadata": {},
   "source": [
    "### 4. Statements\n",
    "A statement is an instruction that the Python interpreter can execute. Statements are the building blocks of a Python program and can perform various tasks such as declaring variables, controlling the flow of the program, and defining functions."
   ]
  },
  {
   "cell_type": "markdown",
   "id": "5377f530",
   "metadata": {},
   "source": [
    "#### 4.1 Single line statement"
   ]
  },
  {
   "cell_type": "code",
   "execution_count": 17,
   "id": "976f283b",
   "metadata": {},
   "outputs": [
    {
     "name": "stdout",
     "output_type": "stream",
     "text": [
      "30\n"
     ]
    }
   ],
   "source": [
    "val = 10 + 20 # covered in single line\n",
    "print(val)"
   ]
  },
  {
   "cell_type": "code",
   "execution_count": 18,
   "id": "49cb3878",
   "metadata": {},
   "outputs": [
    {
     "name": "stdout",
     "output_type": "stream",
     "text": [
      "[2, 4, 6, 8]\n"
     ]
    }
   ],
   "source": [
    "even_list = [2, 4, 6, 8]\n",
    "print(even_list)"
   ]
  },
  {
   "cell_type": "markdown",
   "id": "20ecd2bd",
   "metadata": {},
   "source": [
    "#### 4.2 Multi line statement"
   ]
  },
  {
   "cell_type": "code",
   "execution_count": 19,
   "id": "9c29a81e",
   "metadata": {},
   "outputs": [
    {
     "name": "stdout",
     "output_type": "stream",
     "text": [
      "315\n"
     ]
    }
   ],
   "source": [
    "# multiple line statement\n",
    "val = 15 + 25 + 35 \\\n",
    "         + 45 + 55 \\\n",
    "         + 65 + 75\n",
    "print(val)"
   ]
  },
  {
   "cell_type": "code",
   "execution_count": 20,
   "id": "5c0422da",
   "metadata": {},
   "outputs": [
    {
     "name": "stdout",
     "output_type": "stream",
     "text": [
      "[1, 3, 5, 7, 9]\n"
     ]
    }
   ],
   "source": [
    "odd_list = [\n",
    "    1,\n",
    "    3,\n",
    "    5,\n",
    "    7,\n",
    "    9\n",
    "]\n",
    "print(odd_list)"
   ]
  },
  {
   "cell_type": "markdown",
   "id": "f875f34f",
   "metadata": {},
   "source": [
    "### 5. Indentation"
   ]
  },
  {
   "cell_type": "code",
   "execution_count": 21,
   "id": "990e61f8",
   "metadata": {},
   "outputs": [
    {
     "name": "stdout",
     "output_type": "stream",
     "text": [
      "val is equals to 10\n"
     ]
    }
   ],
   "source": [
    "# correct indentation\n",
    "val = 10\n",
    "if val == 10:\n",
    "    print(\"val is equals to 10\")"
   ]
  },
  {
   "cell_type": "code",
   "execution_count": 22,
   "id": "ec8eb20a",
   "metadata": {},
   "outputs": [
    {
     "ename": "IndentationError",
     "evalue": "expected an indented block after 'if' statement on line 3 (3810473701.py, line 4)",
     "output_type": "error",
     "traceback": [
      "\u001b[0;36m  Cell \u001b[0;32mIn[22], line 4\u001b[0;36m\u001b[0m\n\u001b[0;31m    print(\"val is equals to 25\")\u001b[0m\n\u001b[0m    ^\u001b[0m\n\u001b[0;31mIndentationError\u001b[0m\u001b[0;31m:\u001b[0m expected an indented block after 'if' statement on line 3\n"
     ]
    }
   ],
   "source": [
    "# wrong way : encounter a indentationError\n",
    "val = 25\n",
    "if val == 25:\n",
    "print(\"val is equals to 25\")"
   ]
  },
  {
   "cell_type": "code",
   "execution_count": 23,
   "id": "a91ac837",
   "metadata": {},
   "outputs": [
    {
     "name": "stdout",
     "output_type": "stream",
     "text": [
      "val is equals to 50\n"
     ]
    }
   ],
   "source": [
    "# correct indentation with less redable\n",
    "val = 50\n",
    "if val == 50: print(\"val is equals to 50\")"
   ]
  },
  {
   "cell_type": "code",
   "execution_count": 24,
   "id": "75db5d6d",
   "metadata": {},
   "outputs": [
    {
     "name": "stdout",
     "output_type": "stream",
     "text": [
      "0\n",
      "1\n",
      "2\n",
      "3\n",
      "4\n"
     ]
    }
   ],
   "source": [
    "# correct indentation : to print all numbers from range\n",
    "for num in range(0, 5):\n",
    "    print(num)"
   ]
  },
  {
   "cell_type": "code",
   "execution_count": 25,
   "id": "ef2d1def",
   "metadata": {},
   "outputs": [
    {
     "ename": "IndentationError",
     "evalue": "expected an indented block after 'for' statement on line 2 (4020502540.py, line 3)",
     "output_type": "error",
     "traceback": [
      "\u001b[0;36m  Cell \u001b[0;32mIn[25], line 3\u001b[0;36m\u001b[0m\n\u001b[0;31m    print(num)\u001b[0m\n\u001b[0m    ^\u001b[0m\n\u001b[0;31mIndentationError\u001b[0m\u001b[0;31m:\u001b[0m expected an indented block after 'for' statement on line 2\n"
     ]
    }
   ],
   "source": [
    "# incorrect indentation : encounter a indentationError\n",
    "for num in range(0, 5):\n",
    "print(num)"
   ]
  },
  {
   "cell_type": "markdown",
   "id": "555b14e9",
   "metadata": {},
   "source": [
    "### 6. Docstring"
   ]
  },
  {
   "cell_type": "code",
   "execution_count": 26,
   "id": "ab348668",
   "metadata": {},
   "outputs": [],
   "source": [
    "# function returns sum of two numbers\n",
    "def sum_of_two_numbers(x, y):\n",
    "    '''This function returns the sum of two numbers'''\n",
    "    return x+y\n",
    "    "
   ]
  },
  {
   "cell_type": "code",
   "execution_count": 27,
   "id": "670f5e73",
   "metadata": {},
   "outputs": [
    {
     "data": {
      "text/plain": [
       "30"
      ]
     },
     "execution_count": 27,
     "metadata": {},
     "output_type": "execute_result"
    }
   ],
   "source": [
    "# function call\n",
    "sum_of_two_numbers(10, 20)"
   ]
  },
  {
   "cell_type": "code",
   "execution_count": 28,
   "id": "37321f46",
   "metadata": {},
   "outputs": [
    {
     "name": "stdout",
     "output_type": "stream",
     "text": [
      "This function returns the sum of two numbers\n"
     ]
    }
   ],
   "source": [
    "# doc string of function\n",
    "print(sum_of_two_numbers.__doc__)"
   ]
  },
  {
   "cell_type": "code",
   "execution_count": 29,
   "id": "4c4beec6",
   "metadata": {},
   "outputs": [
    {
     "name": "stdout",
     "output_type": "stream",
     "text": [
      "This function prints whether a number is even or odd.\n"
     ]
    }
   ],
   "source": [
    "# function to check even or odd number\n",
    "def even_or_odd(num):\n",
    "    '''This function prints whether a number is even or odd.'''\n",
    "    if num%2 == 0:\n",
    "        print(\"Even number\")\n",
    "    else:\n",
    "        print(\"Odd number\")\n",
    "        \n",
    "print(even_or_odd.__doc__) # print the Docstring of function"
   ]
  },
  {
   "cell_type": "markdown",
   "id": "273033e6",
   "metadata": {},
   "source": [
    "### 7. Variables"
   ]
  },
  {
   "cell_type": "code",
   "execution_count": 30,
   "id": "c13b1d7a",
   "metadata": {},
   "outputs": [],
   "source": [
    "x = 10 # 'x' is a variable that reserves a memory location to store the value '10'"
   ]
  },
  {
   "cell_type": "code",
   "execution_count": 31,
   "id": "25934bca",
   "metadata": {},
   "outputs": [
    {
     "name": "stdout",
     "output_type": "stream",
     "text": [
      "Given value 25\n",
      "Memory address of value 4380239832\n",
      "Memory address of value in hex 0x1051527d8\n"
     ]
    },
    {
     "ename": "NameError",
     "evalue": "name 'getsizeof' is not defined",
     "output_type": "error",
     "traceback": [
      "\u001b[0;31m---------------------------------------------------------------------------\u001b[0m",
      "\u001b[0;31mNameError\u001b[0m                                 Traceback (most recent call last)",
      "Cell \u001b[0;32mIn[31], line 5\u001b[0m\n\u001b[1;32m      3\u001b[0m \u001b[38;5;28mprint\u001b[39m(\u001b[38;5;124m\"\u001b[39m\u001b[38;5;124mMemory address of value\u001b[39m\u001b[38;5;124m\"\u001b[39m, \u001b[38;5;28mid\u001b[39m(val))\n\u001b[1;32m      4\u001b[0m \u001b[38;5;28mprint\u001b[39m(\u001b[38;5;124m\"\u001b[39m\u001b[38;5;124mMemory address of value in hex\u001b[39m\u001b[38;5;124m\"\u001b[39m, \u001b[38;5;28mhex\u001b[39m(\u001b[38;5;28mid\u001b[39m(val)))\n\u001b[0;32m----> 5\u001b[0m \u001b[38;5;28mprint\u001b[39m(\u001b[38;5;124m\"\u001b[39m\u001b[38;5;124msize of value in bytes\u001b[39m\u001b[38;5;124m\"\u001b[39m, getsizeof(val))\n",
      "\u001b[0;31mNameError\u001b[0m: name 'getsizeof' is not defined"
     ]
    }
   ],
   "source": [
    "val = 25\n",
    "print(\"Given value\", val)\n",
    "print(\"Memory address of value\", id(val))\n",
    "print(\"Memory address of value in hex\", hex(id(val)))\n",
    "print(\"size of value in bytes\", getsizeof(val)) # through NameError : 'sys' package is not imported"
   ]
  },
  {
   "cell_type": "code",
   "execution_count": 34,
   "id": "a3f6991e",
   "metadata": {},
   "outputs": [
    {
     "name": "stdout",
     "output_type": "stream",
     "text": [
      "28\n"
     ]
    }
   ],
   "source": [
    "# imports the 'sys package' and uses the 'getsizeof' function to get the size of the variable val.\n",
    "import sys\n",
    "val = 25\n",
    "print(sys.getsizeof(val))"
   ]
  },
  {
   "cell_type": "markdown",
   "id": "a08a9764",
   "metadata": {},
   "source": [
    "### 8. Variable assignment"
   ]
  },
  {
   "cell_type": "markdown",
   "id": "b96c9e20",
   "metadata": {},
   "source": [
    "#### 8.1 Single variable assignment"
   ]
  },
  {
   "cell_type": "code",
   "execution_count": 32,
   "id": "1812a6f0",
   "metadata": {},
   "outputs": [
    {
     "name": "stdout",
     "output_type": "stream",
     "text": [
      "integer, float and string values are 10 3.142 joshi\n"
     ]
    }
   ],
   "source": [
    "int_val = 10\n",
    "float_val = 3.142\n",
    "string_val = \"joshi\"\n",
    "\n",
    "print(\"integer, float and string values are\", int_val, float_val, string_val)"
   ]
  },
  {
   "cell_type": "markdown",
   "id": "b13de617",
   "metadata": {},
   "source": [
    "#### 8.2 Multiple assignment"
   ]
  },
  {
   "cell_type": "code",
   "execution_count": 35,
   "id": "396052e6",
   "metadata": {},
   "outputs": [
    {
     "name": "stdout",
     "output_type": "stream",
     "text": [
      "integer, float and string values are: 15 20.755 bidar\n"
     ]
    }
   ],
   "source": [
    "int_val, float_val, string_val = 15, 20.755, \"bidar\"\n",
    "print(\"integer, float and string values are:\", int_val, float_val, string_val)"
   ]
  },
  {
   "attachments": {
    "image-3.png": {
     "image/png": "[encoded data removed]"
    }
   },
   "cell_type": "markdown",
   "id": "8ce4efbf",
   "metadata": {},
   "source": [
    "### 9. Data types\n",
    "data types are the classification of data items that tell the interpreter or compiler how the programmer intends to use the data.\n",
    "![image-3.png](attachment:image-3.png)"
   ]
  },
  {
   "cell_type": "markdown",
   "id": "8b9303c2",
   "metadata": {},
   "source": [
    "#### 9.1 Numeric Data type"
   ]
  },
  {
   "cell_type": "markdown",
   "id": "61875c1f",
   "metadata": {},
   "source": [
    "##### 9.1.1 Integer data type"
   ]
  },
  {
   "cell_type": "code",
   "execution_count": 9,
   "id": "b1abd3b8",
   "metadata": {},
   "outputs": [
    {
     "name": "stdout",
     "output_type": "stream",
     "text": [
      "10\n",
      "4313343480\n",
      "0x1011865f8\n",
      "<class 'int'>\n",
      "28\n"
     ]
    }
   ],
   "source": [
    "import sys #for .getsizeof\n",
    "\n",
    "val = 10\n",
    "print(val) # print the variable value\n",
    "print(id(val)) # memory address of value\n",
    "print(hex(id(val))) # memory address in hex \n",
    "print(type(val)) #type of value\n",
    "print(sys.getsizeof(val)) #size of object in bytes"
   ]
  },
  {
   "cell_type": "markdown",
   "id": "1d14f189",
   "metadata": {},
   "source": [
    "##### 9.1.2 Float data type"
   ]
  },
  {
   "cell_type": "code",
   "execution_count": 10,
   "id": "d708ac34",
   "metadata": {},
   "outputs": [
    {
     "name": "stdout",
     "output_type": "stream",
     "text": [
      "3.142\n",
      "4394316624\n",
      "0x105ebf350\n",
      "<class 'float'>\n",
      "24\n"
     ]
    }
   ],
   "source": [
    "import sys #for .getsizeof\n",
    "\n",
    "val = 3.142\n",
    "print(val)\n",
    "print(id(val))\n",
    "print(hex(id(val)))\n",
    "print(type(val))\n",
    "print(sys.getsizeof(val))"
   ]
  },
  {
   "cell_type": "markdown",
   "id": "b11a8a25",
   "metadata": {},
   "source": [
    "##### 9.1.3 Complex data type"
   ]
  },
  {
   "cell_type": "code",
   "execution_count": 11,
   "id": "0e0da348",
   "metadata": {},
   "outputs": [
    {
     "name": "stdout",
     "output_type": "stream",
     "text": [
      "(20+30j)\n",
      "4406864656\n",
      "0x106ab6b10\n",
      "<class 'complex'>\n",
      "32\n"
     ]
    }
   ],
   "source": [
    "import sys #for .getsizeof\n",
    "\n",
    "val = 20+30j\n",
    "print(val)\n",
    "print(id(val))\n",
    "print(hex(id(val)))\n",
    "print(type(val))\n",
    "print(sys.getsizeof(val))"
   ]
  },
  {
   "cell_type": "markdown",
   "id": "b2eeaba7",
   "metadata": {},
   "source": [
    "#### 9.2 Boolean Data type\n",
    "The Boolean data type in Python represents truth values, and it has only two possible values: True and False.\n",
    "\n",
    "Note:\n",
    "* Any non-zero number is considered \"True\"\n",
    "* An empty string \"\" is considered \"falsy\""
   ]
  },
  {
   "cell_type": "code",
   "execution_count": 17,
   "id": "2351b51f",
   "metadata": {},
   "outputs": [
    {
     "name": "stdout",
     "output_type": "stream",
     "text": [
      "True\n",
      "4313342184\n",
      "0x1011860e8\n",
      "<class 'bool'>\n",
      "28\n"
     ]
    }
   ],
   "source": [
    "is_valid_name = True\n",
    "\n",
    "print(is_valid_name)\n",
    "print(id(is_valid_name)) # memory address of variable\n",
    "print(hex(id(is_valid_name))) #hexadecimal representation of the memory address of variable\n",
    "print(type(is_valid_name)) # data type of variable\n",
    "print(sys.getsizeof(is_valid_name)) # size of variable"
   ]
  },
  {
   "cell_type": "code",
   "execution_count": 24,
   "id": "b671f186",
   "metadata": {},
   "outputs": [
    {
     "data": {
      "text/plain": [
       "False"
      ]
     },
     "execution_count": 24,
     "metadata": {},
     "output_type": "execute_result"
    }
   ],
   "source": [
    "bool(0) #number equals to zero consider as \"False\""
   ]
  },
  {
   "cell_type": "code",
   "execution_count": 19,
   "id": "5624569c",
   "metadata": {},
   "outputs": [
    {
     "data": {
      "text/plain": [
       "True"
      ]
     },
     "execution_count": 19,
     "metadata": {},
     "output_type": "execute_result"
    }
   ],
   "source": [
    "bool(1)"
   ]
  },
  {
   "cell_type": "code",
   "execution_count": 20,
   "id": "9a28522d",
   "metadata": {},
   "outputs": [
    {
     "data": {
      "text/plain": [
       "False"
      ]
     },
     "execution_count": 20,
     "metadata": {},
     "output_type": "execute_result"
    }
   ],
   "source": [
    "bool(False)"
   ]
  },
  {
   "cell_type": "code",
   "execution_count": 21,
   "id": "db166319",
   "metadata": {},
   "outputs": [
    {
     "data": {
      "text/plain": [
       "True"
      ]
     },
     "execution_count": 21,
     "metadata": {},
     "output_type": "execute_result"
    }
   ],
   "source": [
    "bool(True)"
   ]
  },
  {
   "cell_type": "code",
   "execution_count": 22,
   "id": "611348d9",
   "metadata": {},
   "outputs": [
    {
     "data": {
      "text/plain": [
       "True"
      ]
     },
     "execution_count": 22,
     "metadata": {},
     "output_type": "execute_result"
    }
   ],
   "source": [
    "bool(20) #since 20 is a non-zero number, which is considered \"truthy\""
   ]
  },
  {
   "cell_type": "code",
   "execution_count": 23,
   "id": "e42b37d2",
   "metadata": {},
   "outputs": [
    {
     "data": {
      "text/plain": [
       "True"
      ]
     },
     "execution_count": 23,
     "metadata": {},
     "output_type": "execute_result"
    }
   ],
   "source": [
    "bool(-1) # any non-zero number is considered \"truthy\""
   ]
  },
  {
   "cell_type": "code",
   "execution_count": 25,
   "id": "091404c6",
   "metadata": {},
   "outputs": [
    {
     "data": {
      "text/plain": [
       "True"
      ]
     },
     "execution_count": 25,
     "metadata": {},
     "output_type": "execute_result"
    }
   ],
   "source": [
    "bool(\"joshi\")"
   ]
  },
  {
   "cell_type": "code",
   "execution_count": 26,
   "id": "58b9652c",
   "metadata": {},
   "outputs": [
    {
     "data": {
      "text/plain": [
       "False"
      ]
     },
     "execution_count": 26,
     "metadata": {},
     "output_type": "execute_result"
    }
   ],
   "source": [
    "bool(\"\") # An empty string \"\" is considered \"falsy\""
   ]
  },
  {
   "cell_type": "code",
   "execution_count": 27,
   "id": "53cedfc1",
   "metadata": {},
   "outputs": [
    {
     "data": {
      "text/plain": [
       "True"
      ]
     },
     "execution_count": 27,
     "metadata": {},
     "output_type": "execute_result"
    }
   ],
   "source": [
    "bool(2.445)"
   ]
  },
  {
   "cell_type": "markdown",
   "id": "24420e29",
   "metadata": {},
   "source": [
    "#### 9.3 String Data type\n",
    "a string is a sequence of characters enclosed within either single quotes (') or double quotes (\")."
   ]
  },
  {
   "cell_type": "markdown",
   "id": "7bb95700",
   "metadata": {},
   "source": [
    "##### 9.3.1 Creating string\n",
    "Strings can be created using single quotes, double quotes, or triple quotes for multiline strings."
   ]
  },
  {
   "cell_type": "code",
   "execution_count": 29,
   "id": "6c4608e7",
   "metadata": {},
   "outputs": [
    {
     "name": "stdout",
     "output_type": "stream",
     "text": [
      "Sourabha\n"
     ]
    }
   ],
   "source": [
    "my_name = \"Sourabha\" # string created using double quotes\n",
    "print(my_name)"
   ]
  },
  {
   "cell_type": "code",
   "execution_count": 30,
   "id": "3adf339c",
   "metadata": {},
   "outputs": [
    {
     "name": "stdout",
     "output_type": "stream",
     "text": [
      "Bidar\n"
     ]
    }
   ],
   "source": [
    "my_city_name = 'Bidar' # string created using single quote\n",
    "print(my_city_name)"
   ]
  },
  {
   "cell_type": "code",
   "execution_count": 31,
   "id": "642f41c1",
   "metadata": {},
   "outputs": [
    {
     "name": "stdout",
     "output_type": "stream",
     "text": [
      "Karnataka\n"
     ]
    }
   ],
   "source": [
    "my_state_name = '''Karnataka''' # string created using triple quotes\n",
    "print(my_state_name)"
   ]
  },
  {
   "cell_type": "code",
   "execution_count": 32,
   "id": "4faaaa97",
   "metadata": {},
   "outputs": [
    {
     "name": "stdout",
     "output_type": "stream",
     "text": [
      "India\n"
     ]
    }
   ],
   "source": [
    "my_country_name = \"\"\"India\"\"\" # string created using 3 double quotes\n",
    "print(my_country_name)"
   ]
  },
  {
   "cell_type": "code",
   "execution_count": 39,
   "id": "48fe3923",
   "metadata": {},
   "outputs": [
    {
     "ename": "SyntaxError",
     "evalue": "unterminated string literal (detected at line 1) (450438325.py, line 1)",
     "output_type": "error",
     "traceback": [
      "\u001b[0;36m  Cell \u001b[0;32mIn[39], line 1\u001b[0;36m\u001b[0m\n\u001b[0;31m    multi_line_str = \"Hello,\u001b[0m\n\u001b[0m                     ^\u001b[0m\n\u001b[0;31mSyntaxError\u001b[0m\u001b[0;31m:\u001b[0m unterminated string literal (detected at line 1)\n"
     ]
    }
   ],
   "source": [
    "multi_line_str = \"Hello,\n",
    "                  world\" \n",
    "print(multi_line_str) # multi line string can not created using double quotes"
   ]
  },
  {
   "cell_type": "code",
   "execution_count": 37,
   "id": "a9787f33",
   "metadata": {},
   "outputs": [
    {
     "name": "stdout",
     "output_type": "stream",
     "text": [
      "Hello, \n",
      "                  world\n"
     ]
    }
   ],
   "source": [
    "multi_line_str = \"\"\"Hello, \n",
    "                  world\"\"\"\n",
    "print(multi_line_str)"
   ]
  },
  {
   "cell_type": "markdown",
   "id": "0b42dc9a",
   "metadata": {},
   "source": [
    "##### 9.3.2 Accessing Characters\n",
    "Individual characters in a string can be accessed using indexing, with the first character at index 0."
   ]
  },
  {
   "cell_type": "code",
   "execution_count": 40,
   "id": "b961a245",
   "metadata": {},
   "outputs": [
    {
     "name": "stdout",
     "output_type": "stream",
     "text": [
      "H\n"
     ]
    }
   ],
   "source": [
    "# first character in string\n",
    "str_val = \"Hello World\"\n",
    "\n",
    "print(str_val[0])"
   ]
  },
  {
   "cell_type": "code",
   "execution_count": 42,
   "id": "ee70f23f",
   "metadata": {},
   "outputs": [
    {
     "name": "stdout",
     "output_type": "stream",
     "text": [
      "d\n"
     ]
    }
   ],
   "source": [
    "# last character in string - 1st way\n",
    "str_val = \"Hello World\"\n",
    "\n",
    "print(str_val[len(str_val)-1])"
   ]
  },
  {
   "cell_type": "code",
   "execution_count": 43,
   "id": "1da85bc7",
   "metadata": {},
   "outputs": [
    {
     "name": "stdout",
     "output_type": "stream",
     "text": [
      "d\n"
     ]
    }
   ],
   "source": [
    "# last character in string - 2nd way\n",
    "str_val = \"Hello World\"\n",
    "\n",
    "print(str_val[-1])"
   ]
  },
  {
   "cell_type": "code",
   "execution_count": 46,
   "id": "018c6d42",
   "metadata": {},
   "outputs": [
    {
     "name": "stdout",
     "output_type": "stream",
     "text": [
      "o\n"
     ]
    }
   ],
   "source": [
    "# 5th character in string\n",
    "str_val = \"Hello World\"\n",
    "\n",
    "print(str_val[4])"
   ]
  },
  {
   "cell_type": "markdown",
   "id": "bd84fd1a",
   "metadata": {},
   "source": [
    "##### 9.3.2 String slicing\n",
    "String slicing in Python allows you to extract a substring from a string by specifying a range of indices. \n",
    "Syntax : string[start_index:end_index:step]\n",
    "    \n",
    "* start_index: The index from which to start slicing (inclusive).\n",
    "* end_index: The index at which to stop slicing (exclusive).\n",
    "* step (optional): The step or increment value for slicing.\n",
    "\n",
    "H e l l o   J 0 s h i\n",
    "0 1 2 3 4 5 6 7 8 9 10\n",
    "\n",
    "Note:\n",
    "string[1:5] => [1, 4) => extract chars from 1 to 4\n",
    "string[2:9] => [2, 9) => extract chars from 2 to 8\n",
    "string[0:]  => [0, len(string)-1] => extract chars from 0 to last index\n",
    "string[:5]  => [0, 5) => extract chars from 0 to 4\n",
    "string[::-1] => reverse string"
   ]
  },
  {
   "cell_type": "code",
   "execution_count": 47,
   "id": "68a7d382",
   "metadata": {},
   "outputs": [
    {
     "name": "stdout",
     "output_type": "stream",
     "text": [
      "ell\n"
     ]
    }
   ],
   "source": [
    "my_string = \"Hello Joshi\"\n",
    "print(my_string[1:4])  # [1:4] => 1 2 3"
   ]
  },
  {
   "cell_type": "code",
   "execution_count": 48,
   "id": "f080f4d3",
   "metadata": {},
   "outputs": [
    {
     "name": "stdout",
     "output_type": "stream",
     "text": [
      "llo Jos\n"
     ]
    }
   ],
   "source": [
    "print(my_string[2:9]) # [2:9] => 2, 3, 4, 5, 6, 7, 8"
   ]
  },
  {
   "cell_type": "code",
   "execution_count": 50,
   "id": "a8109777",
   "metadata": {},
   "outputs": [
    {
     "name": "stdout",
     "output_type": "stream",
     "text": [
      "Hello Joshi\n"
     ]
    }
   ],
   "source": [
    "print(my_string[0:]) # [0:] => index 0 to last index"
   ]
  },
  {
   "cell_type": "code",
   "execution_count": 51,
   "id": "cb437d3f",
   "metadata": {},
   "outputs": [
    {
     "name": "stdout",
     "output_type": "stream",
     "text": [
      "Hello\n"
     ]
    }
   ],
   "source": [
    "print(my_string[:5]) # [:5] => index 0 to 4"
   ]
  },
  {
   "cell_type": "code",
   "execution_count": 53,
   "id": "a93a8d9f",
   "metadata": {},
   "outputs": [
    {
     "name": "stdout",
     "output_type": "stream",
     "text": [
      "ihsoJ olleH\n"
     ]
    }
   ],
   "source": [
    "print(my_string[::-1]) # Reverse the string"
   ]
  },
  {
   "cell_type": "code",
   "execution_count": null,
   "id": "9561c437",
   "metadata": {},
   "outputs": [],
   "source": []
  }
 ],
 "metadata": {
  "kernelspec": {
   "display_name": "Python 3 (ipykernel)",
   "language": "python",
   "name": "python3"
  },
  "language_info": {
   "codemirror_mode": {
    "name": "ipython",
    "version": 3
   },
   "file_extension": ".py",
   "mimetype": "text/x-python",
   "name": "python",
   "nbconvert_exporter": "python",
   "pygments_lexer": "ipython3",
   "version": "3.11.5"
  }
 },
 "nbformat": 4,
 "nbformat_minor": 5
}
